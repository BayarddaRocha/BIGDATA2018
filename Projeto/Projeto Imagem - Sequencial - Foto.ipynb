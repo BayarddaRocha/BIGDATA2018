{
 "cells": [
  {
   "cell_type": "code",
   "execution_count": 1,
   "metadata": {},
   "outputs": [],
   "source": [
    "sc = SparkContext.getOrCreate()"
   ]
  },
  {
   "cell_type": "code",
   "execution_count": 2,
   "metadata": {},
   "outputs": [],
   "source": [
    "# Importação das bibliotecas que poderão ser utilizadas no algoritmo \n",
    "\n",
    "from PIL import Image\n",
    "import timeit\n",
    "import numpy as np\n",
    "import cv2\n",
    "time_start = timeit.default_timer()"
   ]
  },
  {
   "cell_type": "code",
   "execution_count": 3,
   "metadata": {},
   "outputs": [],
   "source": [
    "# leitura da Imagem em diretório local\n",
    "# criação da matriz com a identificação das matrizes b,g,r (função split)\n",
    "# definiçao do Kernel \n",
    "\n",
    "img_foto = Image.open(\"/Mestrado/trabalho/losangeles.jpg\")\n",
    "matrizBGR   = cv2.split(np.array(img_foto))\n",
    "\n",
    "kernel = np.array([[0,1,0],[1,1,1],[0,1,0]])\n",
    "if  sum(np.reshape(kernel,-1)) == 0:\n",
    "    somaKernel = 1\n",
    "else:  \n",
    "    somaKernel= sum(np.reshape(kernel,-1))"
   ]
  },
  {
   "cell_type": "code",
   "execution_count": 4,
   "metadata": {},
   "outputs": [
    {
     "name": "stdout",
     "output_type": "stream",
     "text": [
      "estrutura da foto) =  (1080, 2401, 3)\n",
      "dimensão b =  (1080, 2401)\n",
      "dimensão g =  (1080, 2401)\n",
      "dimensão r =  (1080, 2401)\n",
      "kernel\n",
      "[[0 1 0]\n",
      " [1 1 1]\n",
      " [0 1 0]]\n",
      "soma Kernel =  5\n"
     ]
    }
   ],
   "source": [
    "# Módulo para apresentar conteúdos Gerados\n",
    "\n",
    "print ('estrutura da foto) = ',np.array(img_foto).shape)\n",
    "print ('dimensão b = ',matrizBGR[0].shape) \n",
    "print ('dimensão g = ',matrizBGR[1].shape)  \n",
    "print ('dimensão r = ',matrizBGR[2].shape)  \n",
    "print ('kernel')\n",
    "print (kernel)\n",
    "print ('soma Kernel = ',somaKernel)\n"
   ]
  },
  {
   "cell_type": "code",
   "execution_count": 5,
   "metadata": {},
   "outputs": [],
   "source": [
    "# algoritmo em ninhos de repetição onde processando as 3 matrizes b,g,r no ninho maior (vaviável a)\n",
    "# na sequencia, geração de todas as submatrizes e através da função reshape faz a somatória dd todos os elementos da \n",
    "# submatriz \n",
    "\n",
    "# ao final de cada looping completo para \"a\", teremos a matrizComvolu com o Kernel Aplicado na sequencia b,g,r\n",
    "\n",
    "qtdeOperac = 0\n",
    "for a in range (np.array(img_foto).shape [2]):\n",
    "    matrizConvolu = np.copy(matrizBGR[a])\n",
    "    for x in range (matrizBGR[a].shape [0]-2):\n",
    "            for y in range (matrizBGR[a].shape [1]-2):\n",
    "                        subMatriz = matrizBGR[a][slice(x,x+3),slice (y,y+3)] \n",
    "                        matrizConvolu [x+1][y+1] = int(sum(np.reshape(subMatriz*kernel,-1)) / somaKernel)\n",
    "                        if  matrizConvolu [x+1][y+1] < 0:\n",
    "                                print (matrizConvolu [x+1][y+1])\n",
    "                                matrizConvolu [x+1][y+1] = 0\n",
    "                        qtdeOperac = qtdeOperac + 1\n",
    "    matrizBGR[a] = matrizConvolu"
   ]
  },
  {
   "cell_type": "code",
   "execution_count": 6,
   "metadata": {},
   "outputs": [
    {
     "name": "stdout",
     "output_type": "stream",
     "text": [
      "Qtde Operações =  7758366\n"
     ]
    }
   ],
   "source": [
    "# Quantidade de operações realizadas \n",
    "\n",
    "print (\"Qtde Operações = \", qtdeOperac)"
   ]
  },
  {
   "cell_type": "code",
   "execution_count": 7,
   "metadata": {},
   "outputs": [],
   "source": [
    "# faz o merge das 3 matrizes b,g,r para criação da nova imagem, com o Filtro de Convolução aplicado.\n",
    "# será armazenado no mesmo diretório local onde localiza-se a imagem de origem\n",
    "\n",
    "imgArrayConvolu = cv2.merge((matrizBGR[0],matrizBGR[1],matrizBGR[2]))\n",
    "Image.fromarray(imgArrayConvolu).save(\"/Mestrado/trabalho/Imagem_Convolu.jpg\")"
   ]
  },
  {
   "cell_type": "code",
   "execution_count": 8,
   "metadata": {},
   "outputs": [
    {
     "name": "stdout",
     "output_type": "stream",
     "text": [
      "(1080, 2401, 3)\n"
     ]
    }
   ],
   "source": [
    "# conferencia das dimensões da imagem criada\n",
    "\n",
    "print (imgArrayConvolu.shape)"
   ]
  },
  {
   "cell_type": "code",
   "execution_count": 9,
   "metadata": {},
   "outputs": [
    {
     "name": "stdout",
     "output_type": "stream",
     "text": [
      "Tempo de processamento Comum: 65.51608762818074 segundos\n"
     ]
    }
   ],
   "source": [
    "# totalizados do tempo em segundos da execução completa do algoritmo\n",
    "\n",
    "time_end = timeit.default_timer()\n",
    "time = time_end - time_start\n",
    "print ('Tempo de processamento Comum:', time, 'segundos')"
   ]
  }
 ],
 "metadata": {
  "kernelspec": {
   "display_name": "Python 3",
   "language": "python",
   "name": "python3"
  },
  "language_info": {
   "codemirror_mode": {
    "name": "ipython",
    "version": 3
   },
   "file_extension": ".py",
   "mimetype": "text/x-python",
   "name": "python",
   "nbconvert_exporter": "python",
   "pygments_lexer": "ipython3",
   "version": "3.6.4"
  }
 },
 "nbformat": 4,
 "nbformat_minor": 2
}
