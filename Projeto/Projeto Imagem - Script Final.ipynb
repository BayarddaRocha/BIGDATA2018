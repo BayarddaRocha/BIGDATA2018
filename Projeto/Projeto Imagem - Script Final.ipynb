{
 "cells": [
  {
   "cell_type": "code",
   "execution_count": 1,
   "metadata": {},
   "outputs": [],
   "source": [
    "sc = SparkContext.getOrCreate()"
   ]
  },
  {
   "cell_type": "code",
   "execution_count": 2,
   "metadata": {},
   "outputs": [],
   "source": [
    "from PIL import Image\n",
    "import timeit\n",
    "import numpy as np\n",
    "import cv2\n",
    "time_start = timeit.default_timer()\n",
    "img_foto = Image.open(\"/Mestrado/trabalho/losangeles.jpg\")\n",
    "matrizBGR   = cv2.split(np.array(img_foto))\n",
    "\n",
    "kernel = np.array([[0,1,0],[1,1,1],[0,1,0]])\n",
    "if  sum(np.reshape(kernel,-1)) == 0:\n",
    "    somaKernel = 1\n",
    "else:  \n",
    "    somaKernel= sum(np.reshape(kernel,-1))"
   ]
  },
  {
   "cell_type": "code",
   "execution_count": 3,
   "metadata": {},
   "outputs": [
    {
     "name": "stdout",
     "output_type": "stream",
     "text": [
      "estrutura da foto) =  (1080, 2401, 3)\n",
      "dimensão b =  (1080, 2401)\n",
      "dimensão g =  (1080, 2401)\n",
      "dimensão r =  (1080, 2401)\n",
      "kernel\n",
      "[[0 1 0]\n",
      " [1 1 1]\n",
      " [0 1 0]]\n",
      "soma Kernel =  5\n"
     ]
    }
   ],
   "source": [
    "# Estrutura capturada \n",
    "print ('estrutura da foto) = ',np.array(img_foto).shape)\n",
    "print ('dimensão b = ',matrizBGR[0].shape) \n",
    "print ('dimensão g = ',matrizBGR[1].shape)  \n",
    "print ('dimensão r = ',matrizBGR[2].shape)  \n",
    "print ('kernel')\n",
    "print (kernel)\n",
    "print ('soma Kernel = ',somaKernel)\n"
   ]
  },
  {
   "cell_type": "code",
   "execution_count": 4,
   "metadata": {},
   "outputs": [],
   "source": [
    "qtdeOperac = 0\n",
    "for a in range (np.array(img_foto).shape [2]):\n",
    "    matrizConvolu = np.copy(matrizBGR[a])\n",
    "    for x in range (matrizBGR[a].shape [0]-2):\n",
    "            for y in range (matrizBGR[a].shape [1]-2):\n",
    "                        subMatriz = matrizBGR[a][slice(x,x+3),slice (y,y+3)] # cria uma subMatriz com as linhas e colunas desejadas \n",
    "                        matrizConvolu [x+1][y+1] = int(sum(np.reshape(subMatriz*kernel,-1)) / somaKernel)\n",
    "                        if  matrizConvolu [x+1][y+1] < 0:\n",
    "                                print (matrizConvolu [x+1][y+1])\n",
    "                                matrizConvolu [x+1][y+1] = 0\n",
    "                        qtdeOperac = qtdeOperac + 1\n",
    "    matrizBGR[a] = matrizConvolu"
   ]
  },
  {
   "cell_type": "code",
   "execution_count": 5,
   "metadata": {},
   "outputs": [
    {
     "name": "stdout",
     "output_type": "stream",
     "text": [
      "Qtde Operações =  7758366\n"
     ]
    }
   ],
   "source": [
    "# Quantidade de operações realizadas \n",
    "print (\"Qtde Operações = \", qtdeOperac)"
   ]
  },
  {
   "cell_type": "code",
   "execution_count": 6,
   "metadata": {},
   "outputs": [],
   "source": [
    "imgArrayConvolu = cv2.merge((matrizBGR[0],matrizBGR[1],matrizBGR[2]))\n",
    "Image.fromarray(imgArrayConvolu).save(\"/Mestrado/trabalho/Imagem_Convolu.jpg\")"
   ]
  },
  {
   "cell_type": "code",
   "execution_count": 7,
   "metadata": {},
   "outputs": [
    {
     "name": "stdout",
     "output_type": "stream",
     "text": [
      "(1080, 2401, 3)\n"
     ]
    }
   ],
   "source": [
    "print (imgArrayConvolu.shape)"
   ]
  },
  {
   "cell_type": "code",
   "execution_count": 8,
   "metadata": {},
   "outputs": [
    {
     "name": "stdout",
     "output_type": "stream",
     "text": [
      "Tempo de processamento Comum: 65.83397486122757 segundos\n"
     ]
    }
   ],
   "source": [
    "time_end = timeit.default_timer()\n",
    "time = time_end - time_start\n",
    "print ('Tempo de processamento Comum:', time, 'segundos')"
   ]
  }
 ],
 "metadata": {
  "kernelspec": {
   "display_name": "Python 3",
   "language": "python",
   "name": "python3"
  },
  "language_info": {
   "codemirror_mode": {
    "name": "ipython",
    "version": 3
   },
   "file_extension": ".py",
   "mimetype": "text/x-python",
   "name": "python",
   "nbconvert_exporter": "python",
   "pygments_lexer": "ipython3",
   "version": "3.6.4"
  }
 },
 "nbformat": 4,
 "nbformat_minor": 2
}
