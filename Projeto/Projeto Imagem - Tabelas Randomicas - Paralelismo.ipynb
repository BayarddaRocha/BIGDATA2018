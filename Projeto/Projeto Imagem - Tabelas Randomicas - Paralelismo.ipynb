{
 "cells": [
  {
   "cell_type": "code",
   "execution_count": 1,
   "metadata": {},
   "outputs": [],
   "source": [
    "sc = SparkContext.getOrCreate()"
   ]
  },
  {
   "cell_type": "code",
   "execution_count": 2,
   "metadata": {},
   "outputs": [],
   "source": [
    "# Importação das bibliotecas que poderão ser utilizadas no algoritmo \n",
    "\n",
    "from PIL import Image\n",
    "import timeit\n",
    "import numpy as np\n",
    "import pickle\n",
    "import scipy.misc\n",
    "import cv2\n",
    "import random\n",
    "import scipy.sparse as sps\n",
    "from pyspark.mllib.linalg import Vectors\n",
    "\n",
    "time_start = timeit.default_timer()"
   ]
  },
  {
   "cell_type": "code",
   "execution_count": 3,
   "metadata": {},
   "outputs": [],
   "source": [
    "# Função Randomica de elementos para as matrizes b,g,r, com numero de 0 a 450 \n",
    "\n",
    "def matriz(n_linhas, n_colunas):\n",
    "    matriz = [] # Matriz\n",
    "    linha = [] # Linha\n",
    "    while len(matriz) != n_linhas: \n",
    "        n = random.randint(0,450) \n",
    "        linha.append(n) \n",
    "        if len(linha) == n_colunas:\n",
    "            matriz.append(linha) \n",
    "            linha = []\n",
    "    return matriz "
   ]
  },
  {
   "cell_type": "code",
   "execution_count": 4,
   "metadata": {},
   "outputs": [],
   "source": [
    "# Geração das Matrizes b,g,r \n",
    "\n",
    "matriz_lst = matriz (4,4)\n",
    "b = np.array(matriz_lst)\n",
    "\n",
    "matriz_lst = matriz (4,4)\n",
    "g = np.array(matriz_lst)\n",
    "\n",
    "matriz_lst = matriz (4,4)\n",
    "r = np.array(matriz_lst)\n",
    "\n",
    "linha = b.shape[0]\n",
    "coluna = b.shape[1] \n",
    "\n",
    "# Kernel a ser utilizado no filtro de convolução \n",
    "\n",
    "kernel = np.array([[-2,-1,0],[-1,1,1],[0,1,2]])\n",
    "if  sum(np.reshape(kernel,-1)) == 0:\n",
    "    somaKernel = 1\n",
    "else:  \n",
    "    somaKernel= sum(np.reshape(kernel,-1))\n"
   ]
  },
  {
   "cell_type": "code",
   "execution_count": 5,
   "metadata": {},
   "outputs": [
    {
     "name": "stdout",
     "output_type": "stream",
     "text": [
      "matriz b =  (4, 4)\n",
      "[[ 53 170  39 153]\n",
      " [363 421 248 167]\n",
      " [279 400 413 266]\n",
      " [163 321 426 308]]\n",
      "matriz g =  (4, 4)\n",
      "[[ 95 235 380 446]\n",
      " [369 440 402 435]\n",
      " [252 213 381 167]\n",
      " [101 170 103 308]]\n",
      "matriz r =  (4, 4)\n",
      "[[425  77   5 433]\n",
      " [103  41 219 418]\n",
      " [417 142 207 316]\n",
      " [382 132 378 180]]\n",
      "qtde linhas=  4\n",
      "qtde colunas=  4\n",
      "[[-2 -1  0]\n",
      " [-1  1  1]\n",
      " [ 0  1  2]]\n",
      "1\n"
     ]
    }
   ],
   "source": [
    "# Módulo para apresentar conteúdos Gerados\n",
    "\n",
    "print ('matriz b = ',b.shape)\n",
    "print (b) # dimensões da matriz\n",
    "\n",
    "print ('matriz g = ',g.shape)\n",
    "print (g) # dimensões da matriz\n",
    "\n",
    "print ('matriz r = ',r.shape)\n",
    "print (r) # dimensões da matriz\n",
    "\n",
    "print (\"qtde linhas= \", linha)\n",
    "print (\"qtde colunas= \", coluna)\n",
    "\n",
    "print (kernel)\n",
    "print (somaKernel)"
   ]
  },
  {
   "cell_type": "code",
   "execution_count": 6,
   "metadata": {},
   "outputs": [],
   "source": [
    "# Criação do RDD concatenando as 3 matrizes (r,g,b) sendo o primeiro elemento a posição na matriz e um vetor \n",
    "# contendo o conteúdo do elemento nas matrizes b,g,r\n",
    "# exemplo, na posição (0,0) criaremos um vetor onde o primeiro elemento corresponde ao valor da posição (0,0) na matriz b\n",
    "# a sengunda corresponde à matriz g e a terceira r.\n",
    "\n",
    "tuplasRDD= sc.parallelize((((i,j),[(b[i][j],g[i][j],r[i][j])]) for i in range(linha) for j in range(coluna)), 4)\n",
    "indicesRDD = tuplasRDD.map(lambda g :g)"
   ]
  },
  {
   "cell_type": "code",
   "execution_count": 7,
   "metadata": {},
   "outputs": [
    {
     "name": "stdout",
     "output_type": "stream",
     "text": [
      "<class 'pyspark.rdd.PipelinedRDD'>\n",
      "Qtde de Paertições =  4\n",
      "[((0, 0), [(53, 95, 425)]), ((0, 1), [(170, 235, 77)]), ((0, 2), [(39, 380, 5)]), ((0, 3), [(153, 446, 433)]), ((1, 0), [(363, 369, 103)]), ((1, 1), [(421, 440, 41)]), ((1, 2), [(248, 402, 219)]), ((1, 3), [(167, 435, 418)]), ((2, 0), [(279, 252, 417)]), ((2, 1), [(400, 213, 142)]), ((2, 2), [(413, 381, 207)]), ((2, 3), [(266, 167, 316)]), ((3, 0), [(163, 101, 382)]), ((3, 1), [(321, 170, 132)]), ((3, 2), [(426, 103, 378)]), ((3, 3), [(308, 308, 180)])]\n"
     ]
    }
   ],
   "source": [
    "# Prints para avaliação do conteúdo \n",
    "\n",
    "print (type(indicesRDD))\n",
    "print (\"Qtde de Paertições = \", indicesRDD.getNumPartitions())\n",
    "print (indicesRDD.collect())"
   ]
  },
  {
   "cell_type": "code",
   "execution_count": 8,
   "metadata": {},
   "outputs": [],
   "source": [
    "# função que retona um vetor contendo pares ordenados onde a primeira tupla corresponde à submatriz onde existe o par (x,y)\n",
    "# e a segunda tupla, a sua posição dentro da submatriz (x,y) \n",
    "\n",
    "#def submatrizes (x,y):\n",
    "#                coordtransform = []\n",
    "#                for i in range (0,3) :\n",
    "#                    for j in range (0,3):\n",
    "#                        dx = (x-i+1) \n",
    "#                        dy = (y-j+1)\n",
    "#                        if (dx >= 0  and dy>=0 and (i-1)>=0 and (j-1)>=0 and dx < (linha-1) and dy < (coluna-1)):\n",
    "#                            coordtransform.append (((i-1,j-1),((dx,dy))))\n",
    "#                return coordtransform"
   ]
  },
  {
   "cell_type": "code",
   "execution_count": 9,
   "metadata": {},
   "outputs": [],
   "source": [
    "# função a ser aplicada em indicesRDD\n",
    "def funcIndices (x) : \n",
    "    coordtransform = []\n",
    "    for x in range(linha):\n",
    "        for y in range (coluna):\n",
    "                indices = []\n",
    "                for i in range (0,3) :\n",
    "                    for j in range (0,3):\n",
    "                        dx = (x-i+1) \n",
    "                        dy = (y-j+1)\n",
    "                        if (dx >= 0  and dy>=0 and (i-1)>=0 and (j-1)>=0 and dx < (linha-1) and dy < (coluna-1)):\n",
    "                               indices.append (((i-1,j-1),((dx,dy))))\n",
    "                coordtransform.append (indices)\n",
    "    return coordtransform"
   ]
  },
  {
   "cell_type": "code",
   "execution_count": 18,
   "metadata": {},
   "outputs": [
    {
     "name": "stdout",
     "output_type": "stream",
     "text": [
      "[[((0, 0), (0, 0))], [((0, 0), (0, 1)), ((0, 1), (0, 0))], [((0, 0), (0, 2)), ((0, 1), (0, 1))], [((0, 1), (0, 2))], [((0, 0), (1, 0)), ((1, 0), (0, 0))], [((0, 0), (1, 1)), ((0, 1), (1, 0)), ((1, 0), (0, 1)), ((1, 1), (0, 0))], [((0, 0), (1, 2)), ((0, 1), (1, 1)), ((1, 0), (0, 2)), ((1, 1), (0, 1))], [((0, 1), (1, 2)), ((1, 1), (0, 2))], [((0, 0), (2, 0)), ((1, 0), (1, 0))], [((0, 0), (2, 1)), ((0, 1), (2, 0)), ((1, 0), (1, 1)), ((1, 1), (1, 0))], [((0, 0), (2, 2)), ((0, 1), (2, 1)), ((1, 0), (1, 2)), ((1, 1), (1, 1))], [((0, 1), (2, 2)), ((1, 1), (1, 2))], [((1, 0), (2, 0))], [((1, 0), (2, 1)), ((1, 1), (2, 0))], [((1, 0), (2, 2)), ((1, 1), (2, 1))], [((1, 1), (2, 2))]]\n"
     ]
    }
   ],
   "source": [
    "# cconteúdo gerado na aplicaççao da função \n",
    "print(funcIndices (0))"
   ]
  },
  {
   "cell_type": "code",
   "execution_count": null,
   "metadata": {},
   "outputs": [],
   "source": [
    "#o próximo passo seria concatenar cada elemento da lista gerada pela função indice com indicesRDD através de MAP.\n",
    "#Para ilustrar, tomamos como exemplo a primeira posição de indices RDD (0.0),[53,95,425] , concatenariamos a \n",
    "#primeira posição da lista gerada pela função funcIndices [(0.0),(0.0)]\n",
    "\n",
    "#após aplicarmos map , ficariamos com o primeiro elemento : [(0.0),[53,95,425],(((0.0),(0.0)),[53,95,425])] em indicesRDD e assim\n",
    "#sucessivamente para todas as posições de indices RDD "
   ]
  }
 ],
 "metadata": {
  "kernelspec": {
   "display_name": "Python 3",
   "language": "python",
   "name": "python3"
  },
  "language_info": {
   "codemirror_mode": {
    "name": "ipython",
    "version": 3
   },
   "file_extension": ".py",
   "mimetype": "text/x-python",
   "name": "python",
   "nbconvert_exporter": "python",
   "pygments_lexer": "ipython3",
   "version": "3.6.4"
  }
 },
 "nbformat": 4,
 "nbformat_minor": 2
}
